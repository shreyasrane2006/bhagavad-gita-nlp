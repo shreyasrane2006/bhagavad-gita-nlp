{
  "nbformat": 4,
  "nbformat_minor": 0,
  "metadata": {
    "colab": {
      "provenance": []
    },
    "kernelspec": {
      "name": "python3",
      "display_name": "Python 3"
    },
    "language_info": {
      "name": "python"
    }
  },
  "cells": [
    {
      "cell_type": "code",
      "execution_count": 6,
      "metadata": {
        "colab": {
          "base_uri": "https://localhost:8080/"
        },
        "id": "Agxnc2IQnu25",
        "outputId": "d47d3ac2-f009-4c66-8f10-e735044dcbb3"
      },
      "outputs": [
        {
          "output_type": "execute_result",
          "data": {
            "text/plain": [
              "6"
            ]
          },
          "metadata": {},
          "execution_count": 6
        }
      ],
      "source": [
        "text = \"  The Bhagavad Gita is a spiritual guide.  \"\n",
        "text.lower()\n",
        "text.upper()\n",
        "text.strip()\n",
        "text.replace('Gita', 'Geeta')\n",
        "text.split()\n",
        "text.count('a')"
      ]
    },
    {
      "cell_type": "code",
      "source": [
        "text.strip()\n",
        "text[::-1]\n",
        "text[0:10]\n",
        "text[-5:]"
      ],
      "metadata": {
        "colab": {
          "base_uri": "https://localhost:8080/",
          "height": 35
        },
        "id": "2s7h9qaDoim7",
        "outputId": "9894d9b3-b9f7-4bb6-be2c-4fbda3854bae"
      },
      "execution_count": 9,
      "outputs": [
        {
          "output_type": "execute_result",
          "data": {
            "text/plain": [
              "'de.  '"
            ],
            "application/vnd.google.colaboratory.intrinsic+json": {
              "type": "string"
            }
          },
          "metadata": {},
          "execution_count": 9
        }
      ]
    },
    {
      "cell_type": "code",
      "source": [
        "text = \"The Bhagavad Gita has 700 verses across 18 chapters.\"\n",
        "text.lower()\n",
        "text.count('a')\n",
        "text.replace('700', 'seven hundred')\n",
        "text.split('has', 1)[1]"
      ],
      "metadata": {
        "colab": {
          "base_uri": "https://localhost:8080/",
          "height": 35
        },
        "id": "CA_vlCb6o13L",
        "outputId": "84142e1f-99b4-4508-ffd4-db8696236d70"
      },
      "execution_count": 11,
      "outputs": [
        {
          "output_type": "execute_result",
          "data": {
            "text/plain": [
              "' 700 verses across 18 chapters.'"
            ],
            "application/vnd.google.colaboratory.intrinsic+json": {
              "type": "string"
            }
          },
          "metadata": {},
          "execution_count": 11
        }
      ]
    },
    {
      "cell_type": "code",
      "source": [
        "verse = \"In the battle of Kurukshetra, Krishna guides Arjuna with wisdom and peace.\"\n",
        "len(verse.split())\n",
        "verse.count('Krishna')\n",
        "verse.replace('Arjuna', 'Warrior')\n",
        "verse.split()[-3:]"
      ],
      "metadata": {
        "colab": {
          "base_uri": "https://localhost:8080/"
        },
        "id": "oIASQbr_pi-B",
        "outputId": "20eceb47-4080-4ff7-f561-ce5cf3b0e391"
      },
      "execution_count": 9,
      "outputs": [
        {
          "output_type": "execute_result",
          "data": {
            "text/plain": [
              "['wisdom', 'and', 'peace.']"
            ]
          },
          "metadata": {},
          "execution_count": 9
        }
      ]
    }
  ]
}